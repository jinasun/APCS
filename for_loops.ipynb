{
  "nbformat": 4,
  "nbformat_minor": 0,
  "metadata": {
    "colab": {
      "provenance": [],
      "include_colab_link": true
    },
    "kernelspec": {
      "name": "python3",
      "display_name": "Python 3"
    },
    "language_info": {
      "name": "python"
    }
  },
  "cells": [
    {
      "cell_type": "markdown",
      "metadata": {
        "id": "view-in-github",
        "colab_type": "text"
      },
      "source": [
        "<a href=\"https://colab.research.google.com/github/jinasun/APCS/blob/main/for_loops.ipynb\" target=\"_parent\"><img src=\"https://colab.research.google.com/assets/colab-badge.svg\" alt=\"Open In Colab\"/></a>"
      ]
    },
    {
      "cell_type": "markdown",
      "source": [
        "### **Introduction to `for` Loops**\n",
        "\n",
        "In programming, a `for` loop provides a clean and concise way to iterate over a sequence of items. It's one of the most commonly used loops due to its simplicity and versatility in handling structured data types.\n",
        "\n",
        "---\n",
        "\n",
        "### **Iterating Over Ranges**\n",
        "\n",
        "The `range()` function generates a sequence of numbers, which can be used in a `for` loop to repeat an action a specific number of times.\n",
        "\n",
        "**Basic Syntax:**\n",
        "```python\n",
        "for variable in range(start, stop, step):\n",
        "    # body of the loop\n",
        "```\n",
        "\n",
        "- `start`: The beginning value (optional, default is 0).\n",
        "- `stop`: The end value (exclusive).\n",
        "- `step`: The increment/decrement value (optional, default is 1).\n",
        "\n",
        "**Example 1:** Counting from 0 to 4\n",
        "```python\n",
        "for i in range(5):\n",
        "    print(i)\n",
        "```\n",
        "\n",
        "**Example 2:** Counting from 2 to 8 in steps of 2\n",
        "```python\n",
        "for i in range(2, 9, 2):\n",
        "    print(i)\n",
        "```\n",
        "\n",
        "---\n",
        "\n",
        "### **Iterating Over Lists**\n",
        "\n",
        "A `for` loop can directly iterate over items in a list without needing to reference indices.\n",
        "\n",
        "**Basic Syntax:**\n",
        "```python\n",
        "for item in list_name:\n",
        "    # body of the loop\n",
        "```\n",
        "\n",
        "**Example:** Printing all items in a list\n",
        "```python\n",
        "fruits = [\"apple\", \"banana\", \"cherry\"]\n",
        "for fruit in fruits:\n",
        "    print(fruit)\n",
        "```\n",
        "\n",
        "**Note:** The `for` loop can also iterate over other iterable data types like tuples, sets, strings, and dictionaries.\n",
        "\n",
        "---\n",
        "\n"
      ],
      "metadata": {
        "id": "jPs46T6tIdCB"
      }
    },
    {
      "cell_type": "code",
      "source": [
        "#You can play around with the examples in this cell\n",
        "fruits = [\"apple\", \"banana\", \"cherry\"]\n",
        "for fruit in fruits:\n",
        "    print(fruit)"
      ],
      "metadata": {
        "id": "vTqc3r88JzoK",
        "colab": {
          "base_uri": "https://localhost:8080/"
        },
        "outputId": "d27bd902-69e3-402a-9502-13c7d3ce2f5c"
      },
      "execution_count": null,
      "outputs": [
        {
          "output_type": "stream",
          "name": "stdout",
          "text": [
            "apple\n",
            "banana\n",
            "cherry\n"
          ]
        }
      ]
    },
    {
      "cell_type": "markdown",
      "source": [
        "\n",
        "### **Practice Exercises:**\n",
        "\n",
        "1. **Number Doubler:** For numbers 1 through 10, print each number doubled.\n",
        "\n"
      ],
      "metadata": {
        "id": "5X8znl34J3A2"
      }
    },
    {
      "cell_type": "code",
      "source": [
        "#Ex1\n",
        "numbers = [1,2,3,4,5,6,7,8,9,10]\n",
        "for num in numbers:\n",
        "  print(num*2)"
      ],
      "metadata": {
        "id": "UwcBDItUJsyv",
        "colab": {
          "base_uri": "https://localhost:8080/"
        },
        "outputId": "8725510e-9074-4e62-cf0a-26dff7ae70cc"
      },
      "execution_count": null,
      "outputs": [
        {
          "output_type": "stream",
          "name": "stdout",
          "text": [
            "2\n",
            "4\n",
            "6\n",
            "8\n",
            "10\n",
            "12\n",
            "14\n",
            "16\n",
            "18\n",
            "20\n"
          ]
        }
      ]
    },
    {
      "cell_type": "markdown",
      "source": [
        "2. **Vowel Finder:** Given a word, iterate over it and print only the vowels.\n"
      ],
      "metadata": {
        "id": "an5RrtO3J617"
      }
    },
    {
      "cell_type": "code",
      "source": [
        "#Ex2\n",
        "words = input(\"Enter a word: \").lower()\n",
        "\n",
        "vowels = ['a', 'e', 'i', 'o', 'u']\n",
        "\n",
        "found_vowels = \"\"\n",
        "\n",
        "for word in words:\n",
        "  if word in vowels:\n",
        "    found_vowels += word\n",
        "\n",
        "print(\"Vowels in the word:\", found_vowels)\n",
        "\n"
      ],
      "metadata": {
        "id": "LefNxEbXJ8Zw",
        "colab": {
          "base_uri": "https://localhost:8080/"
        },
        "outputId": "023572d7-b86f-45ec-ded2-17f433bf5e57"
      },
      "execution_count": null,
      "outputs": [
        {
          "output_type": "stream",
          "name": "stdout",
          "text": [
            "Enter a word: fghjk\n",
            "Vowels in the word: \n"
          ]
        }
      ]
    },
    {
      "cell_type": "markdown",
      "source": [
        "3. **List Reverser:** Without using built-in functions, reverse the items in a list.\n"
      ],
      "metadata": {
        "id": "SWs102V4J9u-"
      }
    },
    {
      "cell_type": "code",
      "source": [
        "#Ex3\n",
        "cosas = (\"aqua\",\"tarea\",\"telofono\")\n",
        "\n",
        "length = len(cosas)\n",
        "\n",
        "for i in range(length-1,-1,-1):\n",
        "  print(cosas[i])"
      ],
      "metadata": {
        "id": "ev_24-pQJ_eN",
        "colab": {
          "base_uri": "https://localhost:8080/"
        },
        "outputId": "10e83d53-0af0-4f8b-d316-bddb4b2e3c89"
      },
      "execution_count": 3,
      "outputs": [
        {
          "output_type": "stream",
          "name": "stdout",
          "text": [
            "telofono\n",
            "tarea\n",
            "aqua\n"
          ]
        }
      ]
    },
    {
      "cell_type": "markdown",
      "source": [
        "4. **Odd Number Counter:** Given a list of numbers, count how many odd numbers there are.\n"
      ],
      "metadata": {
        "id": "nzzOUhNiKAqP"
      }
    },
    {
      "cell_type": "code",
      "source": [
        "#Ex4\n",
        "numbers = [2,5,0]\n",
        "\n",
        "odd = 0\n",
        "\n",
        "for num in numbers:\n",
        "  if num % 2 != 0:\n",
        "    odd += 1\n",
        "\n",
        "print(\"Odd number in the list:\", odd)\n"
      ],
      "metadata": {
        "id": "VMYhMku7KB8S",
        "colab": {
          "base_uri": "https://localhost:8080/"
        },
        "outputId": "2732ad0d-8e48-4697-ef4a-2d22fde122b5"
      },
      "execution_count": 8,
      "outputs": [
        {
          "output_type": "stream",
          "name": "stdout",
          "text": [
            "Odd number in the list: 1\n"
          ]
        }
      ]
    },
    {
      "cell_type": "markdown",
      "source": [
        "5. **Grade Assigner:** For a list of scores, assign and print grades (e.g., A, B, C).\n"
      ],
      "metadata": {
        "id": "lMx0qR57KDI4"
      }
    },
    {
      "cell_type": "code",
      "source": [
        "#Ex5\n",
        "scores = [40,45,60,65,80,85]\n",
        "\n",
        "for score in scores:\n",
        "  if 80 <= score <= 90:\n",
        "    grade = \"A\"\n",
        "  elif 60 <= score < 70:\n",
        "    grade = \"B\"\n",
        "  elif 40 <= score < 60:\n",
        "    grade = \"C\"\n",
        "\n",
        "  print(\"Score: \",score, \"-> Grade: \",grade)\n"
      ],
      "metadata": {
        "id": "9UhJ6-F6KFDN",
        "colab": {
          "base_uri": "https://localhost:8080/"
        },
        "outputId": "40322d33-1f42-4faa-e253-83937763ad9b"
      },
      "execution_count": 2,
      "outputs": [
        {
          "output_type": "stream",
          "name": "stdout",
          "text": [
            "Score:  40 -> Grade:  C\n",
            "Score:  45 -> Grade:  C\n",
            "Score:  60 -> Grade:  B\n",
            "Score:  65 -> Grade:  B\n",
            "Score:  80 -> Grade:  A\n",
            "Score:  85 -> Grade:  A\n"
          ]
        }
      ]
    },
    {
      "cell_type": "markdown",
      "source": [
        "6. **Word Lengths:** For a list of words, print each word alongside its length.\n"
      ],
      "metadata": {
        "id": "a-5VcK9GKGMi"
      }
    },
    {
      "cell_type": "code",
      "source": [
        "#Ex6\n",
        "words = [\"uno\",\"dos\",\"tres\",\"cuartro\",\"cinco\",\"seis\",\"siete\",\"ocho\",\"nueve\",\"diez\"]\n",
        "\n",
        "for word in words:\n",
        "  print(word,\" : \", len(word))\n"
      ],
      "metadata": {
        "id": "WJ2YmGMZKT68",
        "colab": {
          "base_uri": "https://localhost:8080/"
        },
        "outputId": "ffaffa66-fe0d-4ff7-ae9e-de1b16936d5c"
      },
      "execution_count": 5,
      "outputs": [
        {
          "output_type": "stream",
          "name": "stdout",
          "text": [
            "uno  :  3\n",
            "dos  :  3\n",
            "tres  :  4\n",
            "cuartro  :  7\n",
            "cinco  :  5\n",
            "seis  :  4\n",
            "siete  :  5\n",
            "ocho  :  4\n",
            "nueve  :  5\n",
            "diez  :  4\n"
          ]
        }
      ]
    },
    {
      "cell_type": "markdown",
      "source": [
        "7. **Positive Number Finder:** Given a list of numbers, print only the positive ones.\n"
      ],
      "metadata": {
        "id": "G7NqPlM_KflV"
      }
    },
    {
      "cell_type": "code",
      "source": [
        "#Ex7\n",
        "numbers = [-2,-1,0,1,2]\n",
        "\n",
        "for num in numbers:\n",
        "  if num > 0:\n",
        "    print(num)\n",
        "\n"
      ],
      "metadata": {
        "id": "W2_2S2xBKgsY",
        "colab": {
          "base_uri": "https://localhost:8080/"
        },
        "outputId": "5079f8f2-540f-4768-8149-afab1fee8f6c"
      },
      "execution_count": 6,
      "outputs": [
        {
          "output_type": "stream",
          "name": "stdout",
          "text": [
            "1\n",
            "2\n"
          ]
        }
      ]
    },
    {
      "cell_type": "markdown",
      "source": [
        "8. **Temperature Converter:** Convert a list of temperatures from Celsius to Fahrenheit and print them.\n"
      ],
      "metadata": {
        "id": "Am8UDtkgKhwu"
      }
    },
    {
      "cell_type": "code",
      "source": [
        "#Ex8\n",
        "cel_temp = [10, 25, 26, 36, 37, -9]\n",
        "\n",
        "for cel in cel_temp:\n",
        "  fahrenheit = (cel * 9/5) + 32\n",
        "  print(cel,\" °C is equal to \", fahrenheit,\"°F\")\n"
      ],
      "metadata": {
        "id": "nXjgFlTeKi3h",
        "colab": {
          "base_uri": "https://localhost:8080/"
        },
        "outputId": "2ca87c0d-8e57-4dcf-9eb7-03d6bdfa5df1"
      },
      "execution_count": 7,
      "outputs": [
        {
          "output_type": "stream",
          "name": "stdout",
          "text": [
            "10  °C is equal to  50.0 °F\n",
            "25  °C is equal to  77.0 °F\n",
            "26  °C is equal to  78.8 °F\n",
            "36  °C is equal to  96.8 °F\n",
            "37  °C is equal to  98.6 °F\n",
            "-9  °C is equal to  15.8 °F\n"
          ]
        }
      ]
    },
    {
      "cell_type": "markdown",
      "source": [
        "9. **Name Initials:** For a list of full names, print the initials of each name.\n"
      ],
      "metadata": {
        "id": "MhodCC6HKkLh"
      }
    },
    {
      "cell_type": "code",
      "source": [
        "#Ex9\n",
        "nombre = [\"Jina Sun\", \"Jina Sol\", \"Gina Sun\", \"Howard Huang\"]\n",
        "\n",
        "for name in nombre:\n",
        "  short = \"\"\n",
        "  for word in name.split():\n",
        "    short += word[0]\n",
        "  print(short)\n",
        "\n"
      ],
      "metadata": {
        "id": "HQ5_rY3-Klnc",
        "colab": {
          "base_uri": "https://localhost:8080/"
        },
        "outputId": "970be790-2a09-445f-947f-8c44dad31fa8"
      },
      "execution_count": 14,
      "outputs": [
        {
          "output_type": "stream",
          "name": "stdout",
          "text": [
            "JS\n",
            "JS\n",
            "GS\n",
            "HH\n"
          ]
        }
      ]
    },
    {
      "cell_type": "markdown",
      "source": [
        "10. **Range Sum:** Calculate the sum of numbers from 1 to 100 using a `for` loop."
      ],
      "metadata": {
        "id": "Sbmpt_V3Kpd_"
      }
    },
    {
      "cell_type": "code",
      "source": [
        "#Ex10\n",
        "sum = 0\n",
        "\n",
        "for number in range(1, 101):\n",
        "  sum += number\n",
        "\n",
        "print(\"The sum is: \", sum)"
      ],
      "metadata": {
        "id": "EQ1De9pKKrrz",
        "colab": {
          "base_uri": "https://localhost:8080/"
        },
        "outputId": "881c8b13-5fa1-4ac2-9091-d6728cae9af2"
      },
      "execution_count": 15,
      "outputs": [
        {
          "output_type": "stream",
          "name": "stdout",
          "text": [
            "The sum is:  5050\n"
          ]
        }
      ]
    }
  ]
}