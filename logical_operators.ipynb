{
  "nbformat": 4,
  "nbformat_minor": 0,
  "metadata": {
    "colab": {
      "provenance": []
    },
    "kernelspec": {
      "name": "python3",
      "display_name": "Python 3"
    },
    "language_info": {
      "name": "python"
    }
  },
  "cells": [
    {
      "cell_type": "markdown",
      "source": [
        "\n",
        "### **Logical Operators**\n",
        "\n",
        "Logical operators are used to combine conditional statements.\n",
        "\n",
        "**1. `and` Operator:**\n",
        "- Returns `True` if both statements are true.\n",
        "  \n",
        "  **Example:**\n",
        "  ```python\n",
        "  age = 25\n",
        "  if age > 18 and age < 30:\n",
        "      print(\"You are a young adult.\")\n",
        "  ```\n",
        "\n",
        "**2. `or` Operator:**\n",
        "- Returns `True` if at least one of the statements is true.\n",
        "  \n",
        "  **Example:**\n",
        "  ```python\n",
        "  day = \"Sunday\"\n",
        "  if day == \"Saturday\" or day == \"Sunday\":\n",
        "      print(\"It's the weekend!\")\n",
        "  ```\n",
        "\n",
        "**3. `not` Operator:**\n",
        "- Used to reverse the result; returns `False` if the result is true and vice versa.\n",
        "  \n",
        "  **Example:**\n",
        "  ```python\n",
        "  is_raining = False\n",
        "  if not is_raining:\n",
        "      print(\"It's a sunny day!\")\n",
        "  ```\n",
        "\n",
        "---\n",
        "\n",
        "### **Nested Conditional Statements**\n",
        "\n",
        "Sometimes, you may want to evaluate a condition inside another condition. This is referred to as nesting.\n",
        "\n",
        "**Example:**\n",
        "```python\n",
        "age = 25\n",
        "gender = \"Female\"\n",
        "if age < 30:\n",
        "    if gender == \"Female\":\n",
        "        print(\"Young female.\")\n",
        "    else:\n",
        "        print(\"Young male.\")\n",
        "else:\n",
        "    if gender == \"Female\":\n",
        "        print(\"Mature female.\")\n",
        "    else:\n",
        "        print(\"Mature male.\")\n",
        "```\n",
        "\n",
        "In the example above, the outer `if` checks the age, and the inner `if` checks the gender, leading to more precise classifications.\n",
        "\n"
      ],
      "metadata": {
        "id": "_J_0H623DMoG"
      }
    },
    {
      "cell_type": "code",
      "source": [
        "#Test the examples above here\n",
        "age = 25\n",
        "gender = \"Female\"\n",
        "\n",
        "if age<30 and gender == \"Female\":\n",
        "  print(\"Young female\")\n",
        "\n",
        "  if gender != \"Female\":\n",
        "    print(\"Young Male\")\n",
        "\n",
        "else:\n",
        "  if gender == \"Female\":\n",
        "    print(\"Mature female.\")\n",
        "  else:\n",
        "    print(\"Mature male.\")\n"
      ],
      "metadata": {
        "id": "1tzurxbLDYuS",
        "colab": {
          "base_uri": "https://localhost:8080/"
        },
        "outputId": "48aa6403-1e34-4ee1-f684-eda355e565d5"
      },
      "execution_count": null,
      "outputs": [
        {
          "output_type": "stream",
          "name": "stdout",
          "text": [
            "Young female\n"
          ]
        }
      ]
    },
    {
      "cell_type": "markdown",
      "source": [
        "### **Practice Exercises:**\n",
        "\n",
        "1. **Temperature Alert:**\n",
        "   - Ask the user for the current temperature and if it's raining (yes/no).\n",
        "   - If it's above 30°C and not raining, suggest wearing sunscreen. If it's below 30°C and raining, suggest taking an umbrella.\n",
        "\n",
        "\n",
        "\n"
      ],
      "metadata": {
        "id": "_2pb9LXWDcXE"
      }
    },
    {
      "cell_type": "code",
      "source": [
        "#Ex1\n",
        "tempt = int(input(\"What's the current temperature now?\"))\n",
        "rain = input(\" If it's raining? (yes/no)\").lower()\n",
        "\n",
        "if tempt>30 and rain == \"no\":\n",
        "  print(\"You should wear sunscreen\")\n",
        "\n",
        "if tempt<30 and rain ==\"yes\":\n",
        "  print(\"You should take an umbrella with you\")"
      ],
      "metadata": {
        "id": "AyCFWr2cDiuz",
        "colab": {
          "base_uri": "https://localhost:8080/"
        },
        "outputId": "f3573ec8-2ec6-4093-e230-a5f2d7cf2289"
      },
      "execution_count": null,
      "outputs": [
        {
          "name": "stdout",
          "output_type": "stream",
          "text": [
            "What's the current temperature now?67\n",
            " If it's raining? (yes/no)yes\n"
          ]
        }
      ]
    },
    {
      "cell_type": "markdown",
      "source": [
        "2. **Movie Night:**\n",
        "   - Ask the user if they like action movies and if they like romantic movies.\n",
        "   - Recommend a movie based on their preferences:\n",
        "     - Action and romance: \"Mr. & Mrs. Smith\",\n",
        "     - Only action: \"Die Hard\",\n",
        "     - Only romance: \"Pride and Prejudice\",\n",
        "     - Neither: \"Try watching a documentary!\"\n",
        "\n"
      ],
      "metadata": {
        "id": "hne5hxgMDj0i"
      }
    },
    {
      "cell_type": "code",
      "source": [
        "#Ex2\n",
        "act = input(\"Do you like action movies? (yes/no)\").lower()\n",
        "roman = input(\"Do you like romantic movies? (yes/no)\").lower()\n",
        "\n",
        "if act==\"yes\" and roman==\"yes\":\n",
        "  print(\"I recommend you: Mr. & Mrs. Smith\")\n",
        "\n",
        "elif roman !=\"yes\" and act==\"yes\":\n",
        "  print(\"I recommend you: Die Hard\")\n",
        "elif act !=\"yes\"and roman == \"yes\":\n",
        "  print(\"I recommend you: Pride and Prejudice\")\n",
        "else:\n",
        "  print(\"Try watching a documentary!\")"
      ],
      "metadata": {
        "id": "m13PVPajDlwd",
        "colab": {
          "base_uri": "https://localhost:8080/"
        },
        "outputId": "5a48ec85-511b-4a96-c616-cf7d399dff0d"
      },
      "execution_count": null,
      "outputs": [
        {
          "output_type": "stream",
          "name": "stdout",
          "text": [
            "Do you like action movies? (yes/no)no\n",
            "Do you like romantic movies? (yes/no)yes\n",
            "I recommend you: Pride and Prejudice\n"
          ]
        }
      ]
    },
    {
      "cell_type": "markdown",
      "source": [
        "3. **Eligibility for a Credit Card:**\n",
        "   - Ask the user for their age and monthly salary.\n",
        "   - If they are over 18 and earn more than $1,000 per month, inform them they are eligible for a credit card.\n"
      ],
      "metadata": {
        "id": "2DUNWDlsDmzl"
      }
    },
    {
      "cell_type": "code",
      "source": [
        "#Ex3\n",
        "age = input(\"How old are you?\")\n",
        "salary = int(input(\"What's your monthly salary?\"))\n",
        "\n",
        "if age>18 and salary>1000:\n",
        "  print(\"You are eligible for a credit card.\")\n",
        "\n",
        "else:\n",
        "  print(\"You are not elgible for a credit card.\")"
      ],
      "metadata": {
        "id": "KiuF2ByZDoZG"
      },
      "execution_count": null,
      "outputs": []
    },
    {
      "cell_type": "markdown",
      "source": [
        "\n",
        "4. **Nested Age Bracket Classifier:**\n",
        "   - Ask the user for their age and gender.\n",
        "   - Classify them into 'Young/Mature Male/Female' using nested conditional statements.\n"
      ],
      "metadata": {
        "id": "0p0RmJMKDpdG"
      }
    },
    {
      "cell_type": "code",
      "source": [
        "#Ex4\n",
        "age = int(input(\"How old are you?\"))\n",
        "gender = input(\"Male/Female?\").lower()\n",
        "\n",
        "if age < 18:\n",
        "    age_group = \"Young\"\n",
        "else:\n",
        "  if gender == \"male\":\n",
        "    age_group = \"Mature Male\"\n",
        "  elif gender == \"female\":\n",
        "    age_group = \"Mature Female\"\n",
        "\n",
        "print(\"You are classified as a\",age_group)\n"
      ],
      "metadata": {
        "id": "QSi5-aToDrnK"
      },
      "execution_count": null,
      "outputs": []
    },
    {
      "cell_type": "markdown",
      "source": [
        "\n",
        "5. **Weekend Activity Planner:**\n",
        "   - Ask the user if it's a weekend and if the weather is good.\n",
        "   - Provide activity suggestions based on their answers:\n",
        "     - Weekend and good weather: \"Go for a picnic!\",\n",
        "     - Weekend and bad weather: \"Maybe watch a movie at home?\",\n",
        "     - Weekday and good weather: \"Don't forget your sunglasses on your way to work!\",\n",
        "     - Weekday and bad weather: \"Take an umbrella today.\""
      ],
      "metadata": {
        "id": "tyG7h84BDsrX"
      }
    },
    {
      "cell_type": "code",
      "source": [
        "#Ex5\n",
        "weekend = input(\"Is it the weekend? (Yes/No): \").strip().lower()\n",
        "weather = input(\"Is the weather good? (Yes/No): \").strip().lower()\n",
        "\n",
        "if weekend == \"yes\" and weather == \"yes\":\n",
        "    sugges = \"Go for a picnic!\"\n",
        "elif weekend == \"yes\" and weather == \"no\":\n",
        "    sugges = \"Maybe watch a movie at home?\"\n",
        "elif weekend == \"no\" and weather == \"yes\":\n",
        "    sugges = \"Don't forget your sunglasses on your way to work!\"\n",
        "elif weekend == \"no\" and weather == \"no\":\n",
        "    sugges = \"Take an umbrella today.\"\n",
        "else:\n",
        "    sugges = \"Invalid input. Please enter 'Yes' or 'No' for both questions.\"\n",
        "\n",
        "print(sugges)"
      ],
      "metadata": {
        "id": "7q-ze3tCDtgQ",
        "colab": {
          "base_uri": "https://localhost:8080/"
        },
        "outputId": "fc2f20a6-d3d4-45df-d163-0e5ce5e71cd1"
      },
      "execution_count": 9,
      "outputs": [
        {
          "output_type": "stream",
          "name": "stdout",
          "text": [
            "Is it the weekend? (Yes/No): no\n",
            "Is the weather good? (Yes/No): no\n",
            "Take an umbrella today.\n"
          ]
        }
      ]
    }
  ]
}