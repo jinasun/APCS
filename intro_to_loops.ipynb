{
  "nbformat": 4,
  "nbformat_minor": 0,
  "metadata": {
    "colab": {
      "provenance": [],
      "include_colab_link": true
    },
    "kernelspec": {
      "name": "python3",
      "display_name": "Python 3"
    },
    "language_info": {
      "name": "python"
    }
  },
  "cells": [
    {
      "cell_type": "markdown",
      "metadata": {
        "id": "view-in-github",
        "colab_type": "text"
      },
      "source": [
        "<a href=\"https://colab.research.google.com/github/jinasun/APCS/blob/main/intro_to_loops.ipynb\" target=\"_parent\"><img src=\"https://colab.research.google.com/assets/colab-badge.svg\" alt=\"Open In Colab\"/></a>"
      ]
    },
    {
      "cell_type": "markdown",
      "source": [
        "\n",
        "### **Introduction to Loops**\n",
        "\n",
        "In programming, loops offer a way to perform a set of instructions repeatedly. They are fundamental for tasks that require the same action to be taken on a series of items, or for actions to be repeated until a certain condition is met.\n",
        "\n",
        "---\n",
        "\n",
        "### **Understanding the `while` Loop and its Applications**\n",
        "\n",
        "The `while` loop executes a block of code as long as a specified condition remains `True`.\n",
        "\n",
        "**Basic Syntax:**\n",
        "```python\n",
        "while condition:\n",
        "    # body of the loop\n",
        "```\n",
        "\n",
        "**Example:**\n",
        "```python\n",
        "count = 0\n",
        "while count < 5:\n",
        "    print(count)\n",
        "    count += 1\n",
        "```\n",
        "\n",
        "In the above example, the loop will print numbers from 0 to 4. The loop continues as long as `count` is less than 5.\n",
        "\n",
        "**Applications:**\n",
        "1. **Repeating an action** until a user decides to quit.\n",
        "2. **Waiting for an external condition** to change (e.g., waiting for user input).\n",
        "3. **Polling:** Checking repeatedly if a resource is available or a task is completed.\n",
        "\n",
        "---\n",
        "\n",
        "### **Creating Counters and Accumulators**\n",
        "\n",
        "**1. Counters:**\n",
        "A counter is a variable that is incremented or decremented with each iteration of a loop.\n",
        "\n",
        "**Example:**\n",
        "```python\n",
        "# Counting how many times a loop runs\n",
        "count = 0\n",
        "while count < 10:\n",
        "    print(\"Loop iteration:\", count)\n",
        "    count += 1\n",
        "```\n",
        "\n",
        "**2. Accumulators:**\n",
        "An accumulator is a variable that collects or accumulates a value over time within a loop.\n",
        "\n",
        "**Example:**\n",
        "```python\n",
        "# Summing numbers from 1 to 5\n",
        "total = 0\n",
        "number = 1\n",
        "while number <= 5:\n",
        "    total += number\n",
        "    number += 1\n",
        "print(\"Total sum:\", total)\n",
        "```\n",
        "\n",
        "In the above example, `total` is an accumulator that collects the sum of numbers from 1 to 5.\n",
        "\n",
        "\n"
      ],
      "metadata": {
        "id": "a2Db_gg2H9l2"
      }
    },
    {
      "cell_type": "code",
      "source": [
        "#Play around with the examples in this cell"
      ],
      "metadata": {
        "id": "ixvEg1OJI0vm"
      },
      "execution_count": null,
      "outputs": []
    },
    {
      "cell_type": "markdown",
      "source": [
        "---\n",
        "\n",
        "### **Practice Exercises:**\n",
        "\n",
        "1. **Positive Number Collector:** Ask the user to keep entering numbers. Stop when they enter a negative number and display the sum of all positive numbers entered.\n"
      ],
      "metadata": {
        "id": "icvXf-Q8I4tF"
      }
    },
    {
      "cell_type": "code",
      "source": [
        "#Ex1\n",
        "num = 0\n",
        "\n",
        "while True:\n",
        "  number = float(input(\"Enter a number: \"))\n",
        "  if number<0:\n",
        "    break\n",
        "\n",
        "  num += number\n",
        "\n",
        "print(\"Sum of positive numbers entered:\", num)\n"
      ],
      "metadata": {
        "id": "HWqs6QFuI6Pd",
        "colab": {
          "base_uri": "https://localhost:8080/"
        },
        "outputId": "545db420-e3fc-4ce5-987a-815e824cc064"
      },
      "execution_count": null,
      "outputs": [
        {
          "output_type": "stream",
          "name": "stdout",
          "text": [
            "Enter a number: 78\n",
            "Enter a number: 58\n",
            "Enter a number: 80\n",
            "Enter a number: 56\n",
            "Enter a number: -4\n",
            "Sum of positive numbers entered: 272.0\n"
          ]
        }
      ]
    },
    {
      "cell_type": "markdown",
      "source": [
        "2. **Guessing Game:** Think of a number between 1 and 10. Allow the user to guess until they get the right number.\n"
      ],
      "metadata": {
        "id": "-_u-1EvmI8Dj"
      }
    },
    {
      "cell_type": "code",
      "source": [
        "#Ex2\n",
        "my = 8\n",
        "ask = int(input(\"Guess my num, it's some number between 1 and 10.\"))\n",
        "\n",
        "while ask != my :\n",
        "  print(\"incorrect\")\n",
        "  ask = int(input(\"Guess my num, it's some number between 1 and 10.\"))\n",
        "\n",
        "print(\"correct\")"
      ],
      "metadata": {
        "id": "pmd2ui8UI9nI",
        "colab": {
          "base_uri": "https://localhost:8080/"
        },
        "outputId": "39ee5f39-2ca6-49f8-b562-8595517d1c20"
      },
      "execution_count": null,
      "outputs": [
        {
          "output_type": "stream",
          "name": "stdout",
          "text": [
            "Guess my num, it's some number between 1 and 10.6\n",
            "incorrect\n",
            "Guess my num, it's some number between 1 and 10.8\n",
            "correct\n"
          ]
        }
      ]
    },
    {
      "cell_type": "markdown",
      "source": [
        "3. **Exponential Growth:** Given a number, keep multiplying it by 2 until it exceeds 1000. Count how many multiplications were needed.\n"
      ],
      "metadata": {
        "id": "sMHpPBRQI_Kh"
      }
    },
    {
      "cell_type": "code",
      "source": [
        "#Ex3\n",
        "num = 86\n",
        "total = 0\n",
        "\n",
        "while num<1000:\n",
        "  total+=num\n",
        "  num *= 2\n",
        "  print(total)\n",
        "\n",
        "print(\"We need at least\",total/86,\"times\")\n"
      ],
      "metadata": {
        "id": "5ueHSVhEJA5S",
        "colab": {
          "base_uri": "https://localhost:8080/"
        },
        "outputId": "730851be-249a-407f-9f3b-f361fd4aac32"
      },
      "execution_count": null,
      "outputs": [
        {
          "output_type": "stream",
          "name": "stdout",
          "text": [
            "86\n",
            "258\n",
            "602\n",
            "1290\n",
            "We need at least 15.0 times\n"
          ]
        }
      ]
    },
    {
      "cell_type": "markdown",
      "source": [
        "4. **Password Retry:** Allow a user 3 attempts to enter a correct password.\n"
      ],
      "metadata": {
        "id": "R37qmrpgJCZY"
      }
    },
    {
      "cell_type": "code",
      "source": [
        "#Ex4\n",
        "correct = 719\n",
        "on = input(\"Password: \")\n",
        "count = 1\n",
        "\n",
        "while on != correct:\n",
        "  if count<3:\n",
        "    count+=1\n",
        "    print(\"Try again\")\n",
        "    on = input(\"Password: \")\n",
        "  else:\n",
        "    print(\"Only 3 attempts, no chance\")\n",
        "    break"
      ],
      "metadata": {
        "id": "-mVz_khOJDt3",
        "colab": {
          "base_uri": "https://localhost:8080/"
        },
        "outputId": "7a46c328-f52d-48fa-f896-dcc23e807af3"
      },
      "execution_count": null,
      "outputs": [
        {
          "output_type": "stream",
          "name": "stdout",
          "text": [
            "Password: 9\n",
            "Try again\n",
            "Password: 9\n",
            "Try again\n",
            "Password: 9\n",
            "Only 3 attempts, no chance\n"
          ]
        }
      ]
    },
    {
      "cell_type": "markdown",
      "source": [
        "5. **Interest Calculator:** If you invest $100 at a 5% annual interest rate, how many years will it take for the money to double using compound interest?\n"
      ],
      "metadata": {
        "id": "xE9VCCIPJEtP"
      }
    },
    {
      "cell_type": "code",
      "source": [
        "#Ex5\n",
        "prin = 100\n",
        "rate = 0.05\n",
        "years = 0\n",
        "\n",
        "ans = prin * 2\n",
        "\n",
        "while prin < ans:\n",
        "    prin *= 1 + rate\n",
        "    years += 1\n",
        "\n",
        "print(\"It will take \", years ,\" years for the investment to double.\")\n"
      ],
      "metadata": {
        "id": "_muBoRqzJGB3",
        "colab": {
          "base_uri": "https://localhost:8080/"
        },
        "outputId": "61bbbe09-2d9a-47ac-98c6-0837ad8afbf9"
      },
      "execution_count": null,
      "outputs": [
        {
          "output_type": "stream",
          "name": "stdout",
          "text": [
            "It will take  15  years for the investment to double.\n"
          ]
        }
      ]
    },
    {
      "cell_type": "markdown",
      "source": [
        "6. **Number of Divisors:** For a given number, find out how many divisors it has.\n"
      ],
      "metadata": {
        "id": "UGn7LFPyJHUi"
      }
    },
    {
      "cell_type": "code",
      "source": [
        "#Ex6\n",
        "num = int(input(\"Enter a number: \"))\n",
        "\n",
        "divisor = 0\n",
        "divisor2 = 1\n",
        "\n",
        "while divisor2 <= num:\n",
        "  if num % divisor2 == 0:\n",
        "    divisor += 1\n",
        "  divisor2 += 1\n",
        "\n",
        "print(\"The number of divisors for \",num, \" is \" ,divisor)\n"
      ],
      "metadata": {
        "id": "50u_gFOuJJBB",
        "colab": {
          "base_uri": "https://localhost:8080/"
        },
        "outputId": "6ad5682c-372b-493c-d76e-fef13276b8ed"
      },
      "execution_count": null,
      "outputs": [
        {
          "output_type": "stream",
          "name": "stdout",
          "text": [
            "Enter a number: 89\n",
            "The number of divisors for  89  is  2\n"
          ]
        }
      ]
    },
    {
      "cell_type": "markdown",
      "source": [
        "7. **User Input Collector:** Keep asking the user for input until they type \"exit\" or \"quit\".\n"
      ],
      "metadata": {
        "id": "LAoVS7NyJLDl"
      }
    },
    {
      "cell_type": "code",
      "source": [
        "#Ex7\n",
        "on = input(\"Type some word: \").lower()\n",
        "\n",
        "while on!=\"exit\" or on!=\"quit\":\n",
        "\n",
        "  if on==\"exit\"or on==\"quit\":\n",
        "    break\n",
        "\n",
        "  on = input(\"Type some word: \").lower()\n"
      ],
      "metadata": {
        "id": "51EYMHtzJMVE",
        "colab": {
          "base_uri": "https://localhost:8080/"
        },
        "outputId": "729f8b5d-4abc-407c-b019-6c8bc798fde2"
      },
      "execution_count": null,
      "outputs": [
        {
          "name": "stdout",
          "output_type": "stream",
          "text": [
            "Type some word: ji\n",
            "Type some word: exit\n"
          ]
        }
      ]
    },
    {
      "cell_type": "markdown",
      "source": [
        "8. **Factorial Calculator:** Calculate the factorial of a number using a loop.\n"
      ],
      "metadata": {
        "id": "-Bmx7J87JOFD"
      }
    },
    {
      "cell_type": "code",
      "source": [
        "#Ex8\n",
        "num = int(input(\"Enter a num: \"))\n",
        "\n",
        "factorial = 1\n",
        "current = 1\n",
        "\n",
        "while current <= num:\n",
        "    factorial *= current\n",
        "    current += 1\n",
        "\n",
        "print(\"The factorial of \" ,num, \" is\" ,factorial)\n"
      ],
      "metadata": {
        "id": "i_Ai-9CpJPf3",
        "colab": {
          "base_uri": "https://localhost:8080/"
        },
        "outputId": "de5359be-9444-4039-daea-15eb0ade8df5"
      },
      "execution_count": null,
      "outputs": [
        {
          "output_type": "stream",
          "name": "stdout",
          "text": [
            "Enter a num: 78\n",
            "The factorial of  78  is 11324281178206297831457521158732046228731749579488251990048962825668835325234200766245086213177344000000000000000000\n"
          ]
        }
      ]
    },
    {
      "cell_type": "markdown",
      "source": [
        "9. **Fibonacci Sequence:** Generate the first N numbers of the Fibonacci sequence.\n"
      ],
      "metadata": {
        "id": "DC6RN9NGJQpX"
      }
    },
    {
      "cell_type": "code",
      "source": [
        "#Ex9\n",
        "num = int(input(\"Enter the num: \"))\n",
        "\n",
        "basic = 0\n",
        "first = 0\n",
        "second = 1\n",
        "\n",
        "while num > basic:\n",
        "  print(first)\n",
        "  n = first+second\n",
        "  first = second\n",
        "  second = n\n",
        "  basic +=1"
      ],
      "metadata": {
        "id": "6RV7fRW9JR-b",
        "colab": {
          "base_uri": "https://localhost:8080/"
        },
        "outputId": "ca93d0ec-e976-4bda-83e7-4c559b9b5396"
      },
      "execution_count": null,
      "outputs": [
        {
          "output_type": "stream",
          "name": "stdout",
          "text": [
            "Enter the num: 6\n",
            "0\n",
            "1\n",
            "1\n",
            "2\n",
            "3\n",
            "5\n"
          ]
        }
      ]
    },
    {
      "cell_type": "markdown",
      "source": [
        "10. **Decreasing Counter:** Start from 100 and count down by sevens. Stop if the number goes negative."
      ],
      "metadata": {
        "id": "dnX8zfHcJTXi"
      }
    },
    {
      "cell_type": "code",
      "source": [
        "#Ex10\n",
        "num = 100\n",
        "\n",
        "while num >= 0:\n",
        "    print(num)\n",
        "    num -= 7"
      ],
      "metadata": {
        "id": "2bkZxvmIJUHN",
        "colab": {
          "base_uri": "https://localhost:8080/"
        },
        "outputId": "14852145-ce88-4db1-df6c-47970cca02d2"
      },
      "execution_count": null,
      "outputs": [
        {
          "output_type": "stream",
          "name": "stdout",
          "text": [
            "100\n",
            "93\n",
            "86\n",
            "79\n",
            "72\n",
            "65\n",
            "58\n",
            "51\n",
            "44\n",
            "37\n",
            "30\n",
            "23\n",
            "16\n",
            "9\n",
            "2\n"
          ]
        }
      ]
    }
  ]
}