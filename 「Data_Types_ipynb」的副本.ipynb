{
  "nbformat": 4,
  "nbformat_minor": 0,
  "metadata": {
    "colab": {
      "provenance": []
    },
    "kernelspec": {
      "name": "python3",
      "display_name": "Python 3"
    },
    "language_info": {
      "name": "python"
    }
  },
  "cells": [
    {
      "cell_type": "markdown",
      "source": [
        "\n",
        "### **Data Types Introduction**\n",
        "\n",
        "- **What are Data Types?**\n",
        "    - In computer science, a data type is a classification that specifies which type of value a variable can hold. Think of it as a label for the kind of data (e.g., numbers, texts, true/false values) we're dealing with.\n",
        "    - For instance, if we label something as a 'text' type, it means the variable will hold textual information like names, addresses, etc.\n",
        "\n",
        "#### **Why Do We Need Different Data Types?**\n",
        "1. **Efficiency:** Different data types use different amounts of memory. By choosing the right data type, we ensure our programs run efficiently.\n",
        "2. **Precision:** Some tasks require precision. For instance, financial calculations might need decimal values instead of whole numbers.\n",
        "3. **Clarity:** Using the right data type makes the code more readable and understandable.\n",
        "4. **Error Prevention:** Certain operations are only valid for specific data types. Having the right type can prevent errors. For example, you wouldn't want to accidentally add someone's name to their age.\n",
        "\n",
        "---\n",
        "\n",
        "### **Integers and Floats**\n",
        "\n",
        "#### **Definition and Examples of Integers and Floats**\n",
        "- **Integers:**\n",
        "    - These are whole numbers that can be positive, negative, or zero. They do not have decimal points.\n",
        "    - Examples: -3, -2, -1, 0, 1, 2, 3, ...\n",
        "- **Floats:**\n",
        "    - Also known as floating-point numbers, these are numbers that have a decimal point.\n",
        "    - They can represent real numbers (both rational and irrational numbers).\n",
        "    - Examples: -3.5, 0.0, 2.71, 3.14, ...\n",
        "\n",
        "#### **The Difference Between the Two**\n",
        "1. **Representation:** Integers are whole numbers without a decimal point, while floats have a decimal point.\n",
        "2. **Memory:** Floats typically require more memory than integers due to the precision they carry.\n",
        "3. **Operations:** Some operations might yield different results. For instance, dividing two integers might truncate the result, whereas dividing two floats will retain the decimal portion.\n",
        "\n",
        "#### **Practice: Create Variables of Integer and Float Types and Perform Basic Arithmetic Operations**\n",
        "1. **Creating Variables:**\n",
        "```python\n",
        "int_variable = 5\n",
        "float_variable = 5.5\n",
        "```\n",
        "2. **Arithmetic Operations:**\n",
        "    - **Addition:** `int_variable + 3` will result in `8`, but `float_variable + 3` will result in `8.5`.\n",
        "    - **Division:** `int_variable / 2` might differ in some languages in its result compared to `float_variable / 2`. In Python 3, both will return a float, but in some languages, integer division truncates the result.\n",
        "    - **Multiplication:** `int_variable * 2` will result in `10`, and `float_variable * 2` will result in `11.0`.\n",
        "\n",
        "3. **Experimentation:** Create your own integer and float variables and experiment with various arithmetic operations to observe the outcomes.\n",
        "\n",
        "---\n"
      ],
      "metadata": {
        "id": "LBu00G47APLR"
      }
    },
    {
      "cell_type": "code",
      "source": [
        "#Experiment with integers and floats in this cell\n",
        "int_variable = 19\n",
        "float_variable = 7\n",
        "\n",
        "print(int_variable+3)\n",
        "print(float_variable+3)\n",
        "print(int_variable/3)\n",
        "print(float_variable/3)\n",
        "print(int_variable*3)\n",
        "print(float_variable*3)"
      ],
      "metadata": {
        "id": "LCcqz0c-EMxq",
        "colab": {
          "base_uri": "https://localhost:8080/"
        },
        "outputId": "bc544908-2c94-44e8-a870-260022ed3ab2"
      },
      "execution_count": 2,
      "outputs": [
        {
          "output_type": "stream",
          "name": "stdout",
          "text": [
            "22\n",
            "10\n",
            "6.333333333333333\n",
            "2.3333333333333335\n",
            "57\n",
            "21\n"
          ]
        }
      ]
    },
    {
      "cell_type": "markdown",
      "source": [
        "**1. Coffee Shop Calculator**\n",
        "   \n",
        "**Objective:** Calculate the total cost of items ordered at a coffee shop.\n",
        "\n",
        "- **Instructions:**\n",
        "   - Imagine you're visiting your favorite coffee shop.\n",
        "   - Use the `input()` function to ask the user to specify the number of espressos, lattes, and muffins they'd like to \"buy\". Convert these to integer values.\n",
        "   - Similarly, take user input for the prices of each item and convert these to float values.\n",
        "   - Write a program to calculate and display the total cost.\n",
        "\n",
        "---"
      ],
      "metadata": {
        "id": "bBnOPo9OEAEW"
      }
    },
    {
      "cell_type": "code",
      "source": [
        "espresso = float(40)\n",
        "latte = float(40)\n",
        "muffin = float(60)\n",
        "\n",
        "print(\"Hello, this is a coffee shop that specialized in espressos, latte and muffin! Espresso and Latte are 40NTD per cup, muffin is 60NTD. Please fill out the blank to let us know how much coffe and muffin you want!\")\n",
        "num_es = int(input(\"Espressos: \"))\n",
        "num_la = int(input(\"Latte: \"))\n",
        "num_mu = int(input(\"Muffin: \"))\n",
        "\n",
        "total_cost = espresso*num_es + latte*num_la + muffin*num_mu\n",
        "print(\"Your total cost is $\", total_cost)"
      ],
      "metadata": {
        "id": "ymdlxypHEeHA",
        "colab": {
          "base_uri": "https://localhost:8080/"
        },
        "outputId": "dd943ca2-7c45-4f86-84d2-da19e27ba303"
      },
      "execution_count": 13,
      "outputs": [
        {
          "output_type": "stream",
          "name": "stdout",
          "text": [
            "Hello, this is a coffee shop that specialized in espressos, latte and muffin! Espresso and Latte are 40NTD per cup, muffin is 60NTD. Please fill out the blank to let us know how much coffe and muffin you want!\n",
            "Espressos: 2\n",
            "Latte: 5\n",
            "Muffin: 6\n",
            "Your total cost is $ 640.0\n"
          ]
        }
      ]
    },
    {
      "cell_type": "markdown",
      "source": [
        "**2. Rocket Launch Countdown**\n",
        "   \n",
        "**Objective:** Simulate a rocket launch countdown.\n",
        "\n",
        "- **Instructions:**\n",
        "   - Use the `input()` function to ask the user for a starting countdown number and convert it to an integer.\n",
        "   - Write a loop that subtracts 1 from the variable and prints the current countdown number each iteration.\n",
        "   - Add a delay (using time.sleep in Python) of 0.5 seconds between each countdown number.\n",
        "\n",
        "---\n"
      ],
      "metadata": {
        "id": "5cn16bvxEiz5"
      }
    },
    {
      "cell_type": "code",
      "source": [
        "#Your code for exercise 2 in here\n",
        "import time\n",
        "\n",
        "def rocket_launch_countdown():\n",
        "  start_countdown = int(input(\"Enter the starting countdown number: \"))\n",
        "\n",
        "  if start_countdown < 0:\n",
        "    print(\"Countdown number must be non-negative.\")\n",
        "    return\n",
        "\n",
        "  print(\"Rocket launch countdown:\")\n",
        "  while start_countdown > 0:\n",
        "    print(start_countdown)\n",
        "    start_countdown -= 1\n",
        "    time.sleep(0.5)\n",
        "\n",
        "\n",
        "rocket_launch_countdown()"
      ],
      "metadata": {
        "id": "ys1WJFJWEncP",
        "colab": {
          "base_uri": "https://localhost:8080/"
        },
        "outputId": "980bc187-8e72-4e39-8f90-84637839b43f"
      },
      "execution_count": 26,
      "outputs": [
        {
          "output_type": "stream",
          "name": "stdout",
          "text": [
            "Enter the starting countdown number: 9\n",
            "Rocket launch countdown:\n",
            "9\n",
            "8\n",
            "7\n",
            "6\n",
            "5\n",
            "4\n",
            "3\n",
            "2\n",
            "1\n"
          ]
        }
      ]
    },
    {
      "cell_type": "markdown",
      "source": [
        "**3. Your Weight on Other Planets**\n",
        "   \n",
        "**Objective:** Find out how much you'd weigh on different planets based on their gravity.\n",
        "\n",
        "- **Instructions:**\n",
        "   - Use the `input()` function to ask the user for their weight on Earth and convert this to a float.\n",
        "   - Create float variables for the gravity factor of different planets (e.g., Mars is about 0.38 of Earth's gravity).\n",
        "   - Calculate and display how much they'd weigh on each of these planets.\n",
        "\n",
        "---"
      ],
      "metadata": {
        "id": "_4CLsHIKEsGa"
      }
    },
    {
      "cell_type": "code",
      "source": [
        "#Exercise 3\n",
        "def calculate_weight_on_planets():\n",
        "    earth_weight = float(input(\"Enter your weight on Earth (in kg): \"))\n",
        "\n",
        "    if earth_weight <= 0:\n",
        "      print(\"Weight must be a positive value.\")\n",
        "      return\n",
        "    gravity_factors = {\n",
        "        \"Mars\":0.38,\n",
        "        \"Earth\":3.89,\n",
        "        \"Venus\":2.45,\n",
        "        \"Jupiter\": 2.34,\n",
        "        \"Saturn\": 0.93,\n",
        "        \"Uranus\": 0.92,\n",
        "        \"Neptune\": 1.12\n",
        "    }\n",
        "    print(\"\\nWeight on different planets:\")\n",
        "    for planet, factor in gravity_factors.items():\n",
        "      weight_on_planet = earth_weight * factor\n",
        "      print(f\"Weight on {planet}: {weight_on_planet:} kg\")\n",
        "\n",
        "calculate_weight_on_planets()\n",
        "\n"
      ],
      "metadata": {
        "id": "2CGVY3iiEvR9",
        "colab": {
          "base_uri": "https://localhost:8080/"
        },
        "outputId": "095262bb-8cba-42a0-c751-3b3d5ab38d26"
      },
      "execution_count": 30,
      "outputs": [
        {
          "output_type": "stream",
          "name": "stdout",
          "text": [
            "Enter your weight on Earth (in kg): 50\n",
            "\n",
            "Weight on different planets:\n",
            "Weight on Mars: 19.0 kg\n",
            "Weight on Earth: 194.5 kg\n",
            "Weight on Venus: 122.50000000000001 kg\n",
            "Weight on Jupiter: 117.0 kg\n",
            "Weight on Saturn: 46.5 kg\n",
            "Weight on Uranus: 46.0 kg\n",
            "Weight on Neptune: 56.00000000000001 kg\n"
          ]
        }
      ]
    },
    {
      "cell_type": "markdown",
      "source": [
        "**4. Pizza Party Calculator**\n",
        "   \n",
        "**Objective:** Calculate the cost per slice of pizza.\n",
        "\n",
        "- **Instructions:**\n",
        "   - Use the `input()` function to ask the user how many pizzas they bought and the total cost. Convert these values appropriately (integer for number of pizzas, float for cost).\n",
        "   - Ask the user to specify how many slices each pizza has and convert this to an integer.\n",
        "   - Calculate and display the cost per slice.\n",
        "\n",
        "---"
      ],
      "metadata": {
        "id": "iSGrrgiNExxp"
      }
    },
    {
      "cell_type": "code",
      "source": [
        "#Exercise 4\n",
        "\n",
        "def pizza_party_calculator():\n",
        "\n",
        "    num_pizzas = int(input(\"Enter the number of pizzas bought: \"))\n",
        "    total_cost = float(input(\"Enter the total cost of the pizzas: \"))\n",
        "    slices_per_pizza = int(input(\"Enter the number of slices each pizza has: \"))\n",
        "\n",
        "    if num_pizzas <= 0 or total_cost <= 0 or slices_per_pizza <= 0:\n",
        "        print(\"Invalid input. Make sure all values are positive.\")\n",
        "        return\n",
        "\n",
        "    total_slices = num_pizzas * slices_per_pizza\n",
        "    cost_per_slice = total_cost / total_slices\n",
        "\n",
        "    print(f\"Cost per slice of pizza: ${cost_per_slice:}\")\n",
        "\n",
        "pizza_party_calculator()\n",
        "\n"
      ],
      "metadata": {
        "id": "QFiXisVwE0ZR",
        "colab": {
          "base_uri": "https://localhost:8080/"
        },
        "outputId": "a7c07e26-7da3-4cb7-a78a-206b661d2bd0"
      },
      "execution_count": null,
      "outputs": [
        {
          "name": "stdout",
          "output_type": "stream",
          "text": [
            "Enter the number of pizzas bought: 8\n"
          ]
        }
      ]
    },
    {
      "cell_type": "markdown",
      "source": [
        "\n",
        "**5. Travel Budget Calculator**\n",
        "   \n",
        "**Objective:** Calculate the total budget required for a trip.\n",
        "\n",
        "- **Instructions:**\n",
        "   - Imagine you're planning a trip to your dream destination.\n",
        "   - Use the `input()` function to ask the user for the number of days they plan to stay and convert this to an integer.\n",
        "   - Ask the user to specify the estimated daily expenses for food, accommodation, and sightseeing. Convert these to float values.\n",
        "   - Write a program to calculate and display the total estimated cost for the trip.\n",
        "\n",
        "---"
      ],
      "metadata": {
        "id": "bgTECsKHE3CF"
      }
    },
    {
      "cell_type": "code",
      "source": [
        "#Exercise 5\n",
        "\n",
        "\n"
      ],
      "metadata": {
        "id": "sT4Q-aYuE4jM"
      },
      "execution_count": null,
      "outputs": []
    }
  ]
}