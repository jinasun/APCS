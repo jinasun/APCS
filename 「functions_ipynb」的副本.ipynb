{
  "nbformat": 4,
  "nbformat_minor": 0,
  "metadata": {
    "colab": {
      "provenance": [],
      "include_colab_link": true
    },
    "kernelspec": {
      "name": "python3",
      "display_name": "Python 3"
    },
    "language_info": {
      "name": "python"
    }
  },
  "cells": [
    {
      "cell_type": "markdown",
      "metadata": {
        "id": "view-in-github",
        "colab_type": "text"
      },
      "source": [
        "<a href=\"https://colab.research.google.com/github/jinasun/APCS/blob/main/%E3%80%8Cfunctions_ipynb%E3%80%8D%E7%9A%84%E5%89%AF%E6%9C%AC.ipynb\" target=\"_parent\"><img src=\"https://colab.research.google.com/assets/colab-badge.svg\" alt=\"Open In Colab\"/></a>"
      ]
    },
    {
      "cell_type": "markdown",
      "source": [
        "### **Introduction to Functions**\n",
        "\n",
        "In programming, a function is a self-contained block of code that encapsulates a specific task or related group of tasks. Functions are essential for breaking down complex tasks into smaller, more manageable parts.\n",
        "\n",
        "Advantages of using functions:\n",
        "- **Modularity:** Break down complex tasks into smaller, reusable chunks.\n",
        "- **Reusability:** Write once, use multiple times.\n",
        "- **Maintainability:** Easier to fix issues in one centralized location.\n",
        "- **Abstraction:** Hide complex implementation details, presenting a simple interface.\n",
        "\n",
        "---\n",
        "\n",
        "### **Defining and Calling Functions**\n",
        "\n",
        "**1. Defining a Function:**\n",
        "\n",
        "Use the `def` keyword followed by a function name, parentheses, and a colon. The code block within every function is indented.\n",
        "\n",
        "```python\n",
        "def greet():\n",
        "    print(\"Hello, World!\")\n",
        "```\n",
        "\n",
        "**2. Calling a Function:**\n",
        "\n",
        "To execute the function's code, use the function name followed by parentheses.\n",
        "\n",
        "```python\n",
        "greet()  # This will print \"Hello, World!\"\n",
        "```\n",
        "\n",
        "---\n",
        "\n",
        "### **Parameters and Return Values**\n",
        "\n",
        "**1. Parameters:**\n",
        "\n",
        "Functions can take inputs, known as parameters, to process and potentially use in its task.\n",
        "\n",
        "```python\n",
        "def greet(name):\n",
        "    print(f\"Hello, {name}!\")\n",
        "```\n",
        "\n",
        "**2. Return Values:**\n",
        "\n",
        "Functions can also return results to the caller using the `return` keyword. If no return statement is provided, the function will return `None` by default.\n",
        "\n",
        "```python\n",
        "def add(a, b):\n",
        "    return a + b\n",
        "```\n",
        "\n",
        "---"
      ],
      "metadata": {
        "id": "9G7BXlQXQQ9X"
      }
    },
    {
      "cell_type": "markdown",
      "source": [
        "### **Practice Exercises:**\n",
        "\n",
        "1. **Hello Name:**\n",
        "   - Define a function that takes a name as a parameter and prints \"Hello, [Name]!\".\n",
        "   \n"
      ],
      "metadata": {
        "id": "tBNd71f_yRYF"
      }
    },
    {
      "cell_type": "code",
      "source": [
        "#ex1\n",
        "def jina():\n",
        "  name = input(\"Please enter your name: \")\n",
        "  print(\"hello\", name)\n",
        "\n",
        "jina()"
      ],
      "metadata": {
        "id": "8lYZuO2CyUqd",
        "colab": {
          "base_uri": "https://localhost:8080/"
        },
        "outputId": "712c0944-b911-43d7-e007-c3ddceae3a44"
      },
      "execution_count": null,
      "outputs": [
        {
          "output_type": "stream",
          "name": "stdout",
          "text": [
            "Please enter your name: jina\n",
            "hello jina\n"
          ]
        }
      ]
    },
    {
      "cell_type": "markdown",
      "source": [
        "2. **Area of a Circle:**\n",
        "   - Define a function that calculates the area of a circle given its radius.\n",
        "\n"
      ],
      "metadata": {
        "id": "c58v6-epyVNf"
      }
    },
    {
      "cell_type": "code",
      "source": [
        "#ex2\n",
        "def calc():\n",
        "  radius = int(input(\"enter the radius: \"))\n",
        "  area = 3.14*(radius*radius)\n",
        "  print(area)\n",
        "\n",
        "calc()"
      ],
      "metadata": {
        "id": "DHoK_BaVyfgL",
        "colab": {
          "base_uri": "https://localhost:8080/"
        },
        "outputId": "78aa0d9e-102e-4ecc-b47a-6d22735b7232"
      },
      "execution_count": null,
      "outputs": [
        {
          "output_type": "stream",
          "name": "stdout",
          "text": [
            "enter the radius: 9\n",
            "254.34\n"
          ]
        }
      ]
    },
    {
      "cell_type": "markdown",
      "source": [
        "3. **String Reverser:**\n",
        "   - Write a function that returns the reverse of a given string.\n",
        "\n"
      ],
      "metadata": {
        "id": "wUDhG3X5yiJW"
      }
    },
    {
      "cell_type": "code",
      "source": [
        "#ex3\n",
        "def reverse(ask):\n",
        "  blank = \"\"\n",
        "  # i = len(ask)\n",
        "  for i in range(len(ask)-1,-1,-1):\n",
        "    blank+=ask[i]\n",
        "    #print(blank)\n",
        "  return blank\n",
        "\n",
        "ask = input(\"enter some word:\")\n",
        "reverse = reverse(ask)\n",
        "print(reverse)"
      ],
      "metadata": {
        "id": "f7I9hlbSykBG",
        "colab": {
          "base_uri": "https://localhost:8080/"
        },
        "outputId": "b1c5fec9-a895-4a05-e7e1-8a7ac55ddf66"
      },
      "execution_count": null,
      "outputs": [
        {
          "output_type": "stream",
          "name": "stdout",
          "text": [
            "enter some word:jin as\n",
            "sa nij\n"
          ]
        }
      ]
    },
    {
      "cell_type": "markdown",
      "source": [
        "4. **List Multiplier:**\n",
        "   - Write a function that takes a list and a number as parameters. The function should return a new list where each element is multiplied by the number.\n",
        "\n"
      ],
      "metadata": {
        "id": "Z7trQ7wCyluv"
      }
    },
    {
      "cell_type": "code",
      "source": [
        "def calc(list1, number1):\n",
        "  i = 0\n",
        "  for item in list1:\n",
        "    list1[i]=item*number1\n",
        "    i+=1\n",
        "  return list1\n",
        "\n",
        "\n",
        "print(calc([10,20,30,40,50], 4))"
      ],
      "metadata": {
        "id": "QcK55imVynU8",
        "colab": {
          "base_uri": "https://localhost:8080/"
        },
        "outputId": "5818a906-2ad8-4771-ac3d-1c7bf3bcd2a2"
      },
      "execution_count": null,
      "outputs": [
        {
          "output_type": "stream",
          "name": "stdout",
          "text": [
            "[40, 80, 120, 160, 200]\n"
          ]
        }
      ]
    },
    {
      "cell_type": "markdown",
      "source": [
        "5. **Prime Checker:**\n",
        "   - Create a function that checks if a number is prime. If prime, it should return `True`, otherwise `False`.\n",
        "\n"
      ],
      "metadata": {
        "id": "cIZyRI10yogs"
      }
    },
    {
      "cell_type": "code",
      "source": [
        "#ex5\n",
        "def check_prime(num):\n",
        "  if num == 1:\n",
        "      print(num, \"is not a prime number\")\n",
        "  elif num > 1:\n",
        "    for i in range(2,num):\n",
        "      if (num % i) == 0:\n",
        "        print(num,\"is not a prime number\")\n",
        "        break\n",
        "    else:\n",
        "      print(num,\"is a prime number\")\n",
        "\n",
        "\n",
        "  else:\n",
        "    print(num,\"is not a prime number\")\n",
        "\n",
        "\n",
        "ask1 = int(input(\"enter a number: \"))\n",
        "check_prime(ask1)"
      ],
      "metadata": {
        "id": "6bs6XxzSyprq",
        "colab": {
          "base_uri": "https://localhost:8080/"
        },
        "outputId": "d464ede7-5e99-4e54-ed87-138d7b1c34f6"
      },
      "execution_count": 78,
      "outputs": [
        {
          "output_type": "stream",
          "name": "stdout",
          "text": [
            "enter a number: 7\n",
            "7 is a prime number\n"
          ]
        }
      ]
    },
    {
      "cell_type": "markdown",
      "source": [
        "6. **Factorial Calculator:**\n",
        "   - Write a function that calculates the factorial of a number.\n",
        "\n"
      ],
      "metadata": {
        "id": "-g_xki8tyrjp"
      }
    },
    {
      "cell_type": "code",
      "source": [
        "#ex6\n",
        "def calc(n):\n",
        "  if n == 0:\n",
        "    return 1\n",
        "  else:\n",
        "    return n * calc(n - 1)\n",
        "\n",
        "num = int(input(\"enter some num: \"))\n",
        "result = calc(num)\n",
        "print(result)\n"
      ],
      "metadata": {
        "id": "y3dO2HWdyswx",
        "colab": {
          "base_uri": "https://localhost:8080/"
        },
        "outputId": "2cec0640-a955-40ce-e3bf-aa8141201c5a"
      },
      "execution_count": null,
      "outputs": [
        {
          "output_type": "stream",
          "name": "stdout",
          "text": [
            "enter some num: 5\n",
            "120\n"
          ]
        }
      ]
    },
    {
      "cell_type": "markdown",
      "source": [
        "7. **Age in Dog Years:**\n",
        "   - Define a function that converts human years to dog years (1 human year = 7 dog years).\n",
        "\n"
      ],
      "metadata": {
        "id": "6XrVk9wzywM2"
      }
    },
    {
      "cell_type": "code",
      "source": [
        "#ex7\n",
        "def calc():\n",
        "  ask = int(input(\"enter your age:\"))\n",
        "  converts = ask*7\n",
        "  print(\"Converts your ages to dog is \",converts,\"year old\")\n",
        "\n",
        "calc()"
      ],
      "metadata": {
        "id": "Uplmvk7Syxno",
        "colab": {
          "base_uri": "https://localhost:8080/"
        },
        "outputId": "1ab7e5ed-3984-4254-d8da-982815fbf198"
      },
      "execution_count": null,
      "outputs": [
        {
          "output_type": "stream",
          "name": "stdout",
          "text": [
            "enter your age:7\n",
            "Converts your ages to dog is  49 year old\n"
          ]
        }
      ]
    },
    {
      "cell_type": "markdown",
      "source": [
        "8. **Temperature Converter:**\n",
        "   - Create a function that converts Celsius to Fahrenheit.\n",
        "\n"
      ],
      "metadata": {
        "id": "yzhpfw4Syzdc"
      }
    },
    {
      "cell_type": "code",
      "source": [
        "#ex8\n",
        "def calc():\n",
        "  ask = int(input(\"enter the celsius temp now: \"))\n",
        "  calc = ask*1.8+32\n",
        "  print(calc)\n",
        "\n",
        "calc()"
      ],
      "metadata": {
        "id": "v-7DVKBWy0yK",
        "colab": {
          "base_uri": "https://localhost:8080/"
        },
        "outputId": "1833bb81-31a7-4f54-d84f-93d86c810893"
      },
      "execution_count": null,
      "outputs": [
        {
          "output_type": "stream",
          "name": "stdout",
          "text": [
            "enter the celsius temp now: 7\n",
            "44.6\n"
          ]
        }
      ]
    },
    {
      "cell_type": "markdown",
      "source": [
        "9. **String Repeater:**\n",
        "   - Define a function that takes a string and a number, then returns the string repeated that number of times.\n",
        "\n"
      ],
      "metadata": {
        "id": "kQlt7ezky1_Z"
      }
    },
    {
      "cell_type": "code",
      "source": [
        "#ex9\n",
        "def func(str_input, num_input):\n",
        "  for i in range(0,num_input):\n",
        "    print(str_input)\n",
        "\n",
        "ask = input(\"enter a word: \")\n",
        "ask2 = int(input(\"enter a number: \"))\n",
        "\n",
        "func(ask,ask2)"
      ],
      "metadata": {
        "id": "n23sdrE8y3an",
        "colab": {
          "base_uri": "https://localhost:8080/"
        },
        "outputId": "e0bc4ab2-cc71-4369-d276-a6b3159125b3"
      },
      "execution_count": null,
      "outputs": [
        {
          "output_type": "stream",
          "name": "stdout",
          "text": [
            "enter a word: ji\n",
            "enter a number: 6\n",
            "ji\n",
            "ji\n",
            "ji\n",
            "ji\n",
            "ji\n",
            "ji\n"
          ]
        }
      ]
    },
    {
      "cell_type": "markdown",
      "source": [
        "10. **List Average:**\n",
        "   - Write a function that calculates the average of a list of numbers.\n"
      ],
      "metadata": {
        "id": "PrcszXAay4e0"
      }
    },
    {
      "cell_type": "code",
      "source": [
        "#ex10\n",
        "def calc(numb_list):\n",
        "  total = sum(numb_list)\n",
        "  average = total/len(numb_list)\n",
        "  return(average)\n",
        "\n",
        "numb = [10,20,30,40,50,60,70,80]\n",
        "end = calc(numb)\n",
        "print(end)"
      ],
      "metadata": {
        "id": "LSG5y_X-y54t",
        "colab": {
          "base_uri": "https://localhost:8080/"
        },
        "outputId": "adbe51f7-2ddf-421b-f159-5f75e8d7e5a4"
      },
      "execution_count": null,
      "outputs": [
        {
          "output_type": "stream",
          "name": "stdout",
          "text": [
            "45.0\n"
          ]
        }
      ]
    }
  ]
}